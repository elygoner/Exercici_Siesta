{
 "cells": [
  {
   "cell_type": "markdown",
   "id": "81bdd079-a613-4155-9f12-c2fd96b52695",
   "metadata": {},
   "source": [
    "notebook per representar una  imatge estructura en fdf"
   ]
  },
  {
   "cell_type": "code",
   "execution_count": 2,
   "id": "da632ea0-a725-47a4-83ec-fde845632322",
   "metadata": {},
   "outputs": [],
   "source": [
    "import sisl as si\n",
    "import numpy as np"
   ]
  },
  {
   "cell_type": "code",
   "execution_count": 6,
   "id": "acf8baa8-0015-4865-bbc0-0239b406c9a3",
   "metadata": {},
   "outputs": [],
   "source": [
    "molecula=si.Geometry.read('benze.fdf')"
   ]
  },
  {
   "cell_type": "code",
   "execution_count": 10,
   "id": "fe911b37-5648-47c4-b8e6-c8c939ddc46b",
   "metadata": {},
   "outputs": [
    {
     "ename": "ModuleNotFoundError",
     "evalue": "sisl.viz requires additional packages.\nInstall them with pip:\n   pip install sisl[viz]\nOr conda (only possible if inside a conda environment):\n   conda install nodify plotly netCDF4 scikit-image pathos\n",
     "output_type": "error",
     "traceback": [
      "\u001b[0;31m---------------------------------------------------------------------------\u001b[0m",
      "\u001b[0;31mModuleNotFoundError\u001b[0m                       Traceback (most recent call last)",
      "File \u001b[0;32m/opt/anaconda3/envs/nanociencia/lib/python3.12/site-packages/sisl/viz/__init__.py:13\u001b[0m\n\u001b[1;32m     12\u001b[0m \u001b[38;5;28;01mtry\u001b[39;00m:\n\u001b[0;32m---> 13\u001b[0m     \u001b[38;5;28;01mimport\u001b[39;00m \u001b[38;5;21;01mnodify\u001b[39;00m \u001b[38;5;28;01mas\u001b[39;00m \u001b[38;5;21;01m_\u001b[39;00m  \u001b[38;5;66;03m# noqa: F401\u001b[39;00m\n\u001b[1;32m     14\u001b[0m \u001b[38;5;28;01mexcept\u001b[39;00m \u001b[38;5;167;01mModuleNotFoundError\u001b[39;00m \u001b[38;5;28;01mas\u001b[39;00m e:\n",
      "\u001b[0;31mModuleNotFoundError\u001b[0m: No module named 'nodify'",
      "\nThe above exception was the direct cause of the following exception:\n",
      "\u001b[0;31mModuleNotFoundError\u001b[0m                       Traceback (most recent call last)",
      "Cell \u001b[0;32mIn[10], line 1\u001b[0m\n\u001b[0;32m----> 1\u001b[0m molecula\u001b[38;5;241m.\u001b[39mplot()\n",
      "File \u001b[0;32m/opt/anaconda3/envs/nanociencia/lib/python3.12/site-packages/sisl/_lazy_viz.py:33\u001b[0m, in \u001b[0;36mPlotHandlerPlaceholder.__get__\u001b[0;34m(self, instance, owner)\u001b[0m\n\u001b[1;32m     30\u001b[0m \u001b[38;5;28;01mdef\u001b[39;00m \u001b[38;5;21m__get__\u001b[39m(\u001b[38;5;28mself\u001b[39m, instance, owner):\n\u001b[1;32m     31\u001b[0m     \u001b[38;5;66;03m# Import sisl.viz, which will remove all the placeholders and\u001b[39;00m\n\u001b[1;32m     32\u001b[0m     \u001b[38;5;66;03m# set the actual plot handlers as the \"plot\" attribute.\u001b[39;00m\n\u001b[0;32m---> 33\u001b[0m     \u001b[38;5;28;01mimport\u001b[39;00m \u001b[38;5;21;01msisl\u001b[39;00m\u001b[38;5;21;01m.\u001b[39;00m\u001b[38;5;21;01mviz\u001b[39;00m  \u001b[38;5;66;03m# noqa: F401\u001b[39;00m\n\u001b[1;32m     35\u001b[0m     \u001b[38;5;66;03m# Return the plot handler\u001b[39;00m\n\u001b[1;32m     36\u001b[0m     \u001b[38;5;28;01mif\u001b[39;00m instance \u001b[38;5;129;01mis\u001b[39;00m \u001b[38;5;28;01mNone\u001b[39;00m:\n",
      "File \u001b[0;32m/opt/anaconda3/envs/nanociencia/lib/python3.12/site-packages/sisl/viz/__init__.py:15\u001b[0m\n\u001b[1;32m     13\u001b[0m     \u001b[38;5;28;01mimport\u001b[39;00m \u001b[38;5;21;01mnodify\u001b[39;00m \u001b[38;5;28;01mas\u001b[39;00m \u001b[38;5;21;01m_\u001b[39;00m  \u001b[38;5;66;03m# noqa: F401\u001b[39;00m\n\u001b[1;32m     14\u001b[0m \u001b[38;5;28;01mexcept\u001b[39;00m \u001b[38;5;167;01mModuleNotFoundError\u001b[39;00m \u001b[38;5;28;01mas\u001b[39;00m e:\n\u001b[0;32m---> 15\u001b[0m     \u001b[38;5;28;01mraise\u001b[39;00m \u001b[38;5;167;01mModuleNotFoundError\u001b[39;00m(\n\u001b[1;32m     16\u001b[0m \u001b[38;5;250m        \u001b[39m\u001b[38;5;124;03m\"\"\"\\\u001b[39;00m\n\u001b[1;32m     17\u001b[0m \u001b[38;5;124;03msisl.viz requires additional packages.\u001b[39;00m\n\u001b[1;32m     18\u001b[0m \u001b[38;5;124;03mInstall them with pip:\u001b[39;00m\n\u001b[1;32m     19\u001b[0m \u001b[38;5;124;03m   pip install sisl[viz]\u001b[39;00m\n\u001b[1;32m     20\u001b[0m \u001b[38;5;124;03mOr conda (only possible if inside a conda environment):\u001b[39;00m\n\u001b[1;32m     21\u001b[0m \u001b[38;5;124;03m   conda install nodify plotly netCDF4 scikit-image pathos\u001b[39;00m\n\u001b[1;32m     22\u001b[0m \u001b[38;5;124;03m\"\"\"\u001b[39;00m\n\u001b[1;32m     23\u001b[0m     ) \u001b[38;5;28;01mfrom\u001b[39;00m \u001b[38;5;21;01me\u001b[39;00m\n\u001b[1;32m     25\u001b[0m \u001b[38;5;66;03m# Placeholders for 'plot' attributes are set in the classes while\u001b[39;00m\n\u001b[1;32m     26\u001b[0m \u001b[38;5;66;03m# sisl.viz is not loaded. Now we are loading it, so just remove those\u001b[39;00m\n\u001b[1;32m     27\u001b[0m \u001b[38;5;66;03m# placeholders.\u001b[39;00m\n\u001b[1;32m     28\u001b[0m \u001b[38;5;28;01mfrom\u001b[39;00m \u001b[38;5;21;01msisl\u001b[39;00m\u001b[38;5;21;01m.\u001b[39;00m\u001b[38;5;21;01m_lazy_viz\u001b[39;00m \u001b[38;5;28;01mimport\u001b[39;00m clear_viz_placeholders\n",
      "\u001b[0;31mModuleNotFoundError\u001b[0m: sisl.viz requires additional packages.\nInstall them with pip:\n   pip install sisl[viz]\nOr conda (only possible if inside a conda environment):\n   conda install nodify plotly netCDF4 scikit-image pathos\n"
     ]
    }
   ],
   "source": [
    "molecula.plot()#aixo dona una imatge ·d interactiva, t'ho prometo\n"
   ]
  }
 ],
 "metadata": {
  "kernelspec": {
   "display_name": "Python 3 (ipykernel)",
   "language": "python",
   "name": "python3"
  },
  "language_info": {
   "codemirror_mode": {
    "name": "ipython",
    "version": 3
   },
   "file_extension": ".py",
   "mimetype": "text/x-python",
   "name": "python",
   "nbconvert_exporter": "python",
   "pygments_lexer": "ipython3",
   "version": "3.12.8"
  }
 },
 "nbformat": 4,
 "nbformat_minor": 5
}

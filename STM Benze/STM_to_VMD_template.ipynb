{
 "cells": [
  {
   "cell_type": "markdown",
   "id": "af789607-b778-4f61-8fc8-6127b4028459",
   "metadata": {},
   "source": [
    "**CONSTANT HEIGHT STM IMAGES**\n",
    "------------------------------\n",
    "\n",
    "\n",
    "Theory Background\n",
    "-----------------\n",
    "\n",
    "Prediction of STM images requires a knowledge of the **electronic structure** of the molecule and a theory of how STM works.\n",
    "\n",
    "The standard theory of how STM works is based on the Tersoff-Hammann aproximation (https://journals.aps.org/prl/pdf/10.1103/PhysRevLett.50.1998):\n",
    "**the tunneling current is proportional to the local density of states (LDOS)**:\n",
    "\n",
    "$$\n",
    "I(\\vec{r}, V) \\propto \\int_0^V LDOS(\\vec{r}, E_f - V + \\epsilon) \\,d\\epsilon\\\n",
    "$$\n",
    "The LDOS at a certain energy is calculated from the electron density, computed as $\\psi(\\vec{r}) \\psi^*(\\vec{r})$, considering only  wavefunctions at that energy.\n",
    "\n",
    "The value of the tip bias V determines **which states are explored**:  \n",
    "\n",
    "$V = V_{tip} - V_{sample} > 0$ : sample electrons go to the tip, so the images **show occupied states**.\n",
    "\n",
    "$V = V_{tip} - V_{sample} < 0$ : tip electrons go to the sample, so the images **show unoccupied states**.\n",
    "\n",
    "In summary, to compute constant height STM images, we need:\n",
    "\n",
    "1.- Obtain atomic coordinates (for example, from a previous geometry optimization calculation)\n",
    "\n",
    "2.- Compute the eigenstates (wavefunction coefficients) and eigenvalues (energies). We will use **SIESTA** for this.\n",
    "\n",
    "3.- Compute electron density of selected states and compute the STM current $I(\\vec{r}, V)$ for any point in space $\\vec{r}$ (at a constant height $z$), given the voltage bias $V$. We will use **python** for this.\n",
    "\n",
    "$$\n",
    "I(\\vec{r}, V) \\propto \\int_0^V \\sum_{i} \\left[n(-V + E, \\epsilon_i) *  \\psi_i(\\vec{r}) \\psi_i^*(\\vec{r})\\right] \\,dE\\\n",
    "$$"
   ]
  },
  {
   "cell_type": "markdown",
   "id": "1656f9cb-2b04-4499-876b-e847ccb84482",
   "metadata": {},
   "source": [
    "Python implementation of STM simulation\n",
    "---------------------------------------\n",
    "We first import of required libraries"
   ]
  },
  {
   "cell_type": "code",
   "execution_count": 1,
   "id": "b348c47b-4cf1-4147-ad0d-6c21c2980b53",
   "metadata": {},
   "outputs": [],
   "source": [
    "import sisl\n",
    "from sisl import *\n",
    "import sisl.viz\n",
    "import numpy as np\n",
    "import matplotlib.pyplot as plt"
   ]
  },
  {
   "cell_type": "markdown",
   "id": "d5dfc93d-4b7e-470f-906e-1716bd22efaa",
   "metadata": {},
   "source": [
    "## Analysis of SIESTA Results\n",
    "**Load SIESTA Calculation**\n",
    "\n",
    "Once the SIESTA run has finished, to load SIESTA results into python you can do:\n",
    "\n",
    "```python\n",
    "sisl.get_sile(\"path/to/my/file.fdf\").read_hamiltonian()\n",
    "```\n",
    "\n",
    "as we have done in previous lab sessions."
   ]
  },
  {
   "cell_type": "code",
   "execution_count": 2,
   "id": "c7b462a9-64e9-4453-a654-2108fff9fe5f",
   "metadata": {},
   "outputs": [],
   "source": [
    "fdf = get_sile(\"run/stm.fdf\")"
   ]
  },
  {
   "cell_type": "code",
   "execution_count": 3,
   "id": "0cbd9c9b-ec7b-4238-b112-0703aa6aa113",
   "metadata": {},
   "outputs": [],
   "source": [
    "H = fdf.read_hamiltonian()"
   ]
  },
  {
   "cell_type": "code",
   "execution_count": 4,
   "id": "81d724f1-7bc4-4b37-a0de-f31e78c9276f",
   "metadata": {},
   "outputs": [],
   "source": [
    "molec = H.geometry"
   ]
  },
  {
   "cell_type": "code",
   "execution_count": 5,
   "id": "2a4b20f6-776d-4ed8-98e4-8538ef641f9a",
   "metadata": {},
   "outputs": [
    {
     "data": {
      "application/vnd.plotly.v1+json": {
       "config": {
        "plotlyServerURL": "https://plot.ly"
       },
       "data": [
        {
         "line": {
          "color": "gray",
          "width": 1
         },
         "meta": {},
         "mode": "lines",
         "name": "Bonds",
         "opacity": 1,
         "type": "scatter",
         "x": {
          "bdata": "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",
          "dtype": "f8"
         },
         "y": {
          "bdata": "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",
          "dtype": "f8"
         }
        },
        {
         "marker": {
          "color": [
           "#909090",
           "#EDEADE",
           "#909090",
           "#EDEADE",
           "#909090",
           "#EDEADE",
           "#909090",
           "#EDEADE",
           "#909090",
           "#EDEADE",
           "#909090",
           "#EDEADE"
          ],
          "opacity": 1,
          "size": {
           "bdata": "cT0K16NwJUD2KFyPwvUgQHE9CtejcCVA9ihcj8L1IEBxPQrXo3AlQPYoXI/C9SBAcT0K16NwJUD2KFyPwvUgQHE9CtejcCVA9ihcj8L1IEBxPQrXo3AlQPYoXI/C9SBA",
           "dtype": "f8"
          }
         },
         "meta": {},
         "mode": "markers",
         "name": "Atoms",
         "opacity": 1,
         "type": "scatter",
         "x": {
          "bdata": "0xbX+Ex2IEAMBWwHI2YiQP///////xtA////////G0Bb0lEOZhMXQOj1J/G5MxNAW9JRDmYTF0Do9SfxuTMTQP///////xtA////////G0DTFtf4THYgQAwFbAcjZiJA",
          "dtype": "f8"
         },
         "y": {
          "bdata": "+MQ6Vb7XHkBO0CaHT4ogQC46WWq91yBA8wUtJGAUI0D4xDpVvtceQE7QJodPiiBABzvFqkEoGUBjX7LxYOsWQKOLTSuFUBZAG/Sltz/XEUAHO8WqQSgZQGNfsvFg6xZA",
          "dtype": "f8"
         }
        },
        {
         "meta": {},
         "mode": "lines",
         "name": "Unit cell",
         "type": "scatter",
         "x": {
          "bdata": "AAAAAAAAAAAAAAAAAAAAAP///////ytA////////K0AAAAAAAAAAAAAAAAAAAAAAAAAAAAAA+H8AAAAAAAAAAAAAAAAAAAAAAAAAAAAAAAD///////8rQP///////ytAAAAAAAAAAAAAAAAAAAD4f////////ytA////////K0AAAAAAAAD4f////////ytA////////K0A=",
          "dtype": "f8"
         },
         "y": {
          "bdata": "AAAAAAAAAAD///////8rQP///////ytA////////K0D///////8rQP///////ytAAAAAAAAA+H////////8rQAAAAAAAAAAAAAAAAAAAAAAAAAAAAAAAAAAAAAAAAAAAAAAAAAAAAAAAAAAAAAD4f////////ytAAAAAAAAAAAAAAAAAAAD4f////////ytAAAAAAAAAAAA=",
          "dtype": "f8"
         }
        }
       ],
       "layout": {
        "scene": {
         "aspectmode": "data",
         "xaxis": {
          "title": {
           "text": "X axis [Ang]"
          }
         },
         "yaxis": {
          "title": {
           "text": "Y axis [Ang]"
          }
         }
        },
        "template": {
         "layout": {
          "hovermode": "closest",
          "paper_bgcolor": "white",
          "plot_bgcolor": "white",
          "scene": {
           "xaxis": {
            "color": "black",
            "gridcolor": "#ccc",
            "gridwidth": 1,
            "linewidth": 1,
            "mirror": true,
            "showgrid": false,
            "showline": true,
            "ticklen": 5,
            "ticks": "outside",
            "ticksuffix": " ",
            "visible": true,
            "zeroline": false,
            "zerolinecolor": "#ccc",
            "zerolinewidth": 1
           },
           "yaxis": {
            "color": "black",
            "gridcolor": "#ccc",
            "gridwidth": 1,
            "linewidth": 1,
            "mirror": true,
            "showgrid": false,
            "showline": true,
            "ticklen": 5,
            "ticks": "outside",
            "ticksuffix": " ",
            "visible": true,
            "zeroline": false,
            "zerolinecolor": "#ccc",
            "zerolinewidth": 1
           },
           "zaxis": {
            "color": "black",
            "gridcolor": "#ccc",
            "gridwidth": 1,
            "linewidth": 1,
            "mirror": true,
            "showgrid": false,
            "showline": true,
            "ticklen": 5,
            "ticks": "outside",
            "ticksuffix": " ",
            "visible": true,
            "zeroline": false,
            "zerolinecolor": "#ccc",
            "zerolinewidth": 1
           }
          },
          "xaxis": {
           "color": "black",
           "gridcolor": "#ccc",
           "gridwidth": 1,
           "linewidth": 1,
           "mirror": true,
           "showgrid": false,
           "showline": true,
           "ticklen": 5,
           "ticks": "outside",
           "ticksuffix": " ",
           "visible": true,
           "zeroline": false,
           "zerolinecolor": "#ccc",
           "zerolinewidth": 1
          },
          "yaxis": {
           "color": "black",
           "gridcolor": "#ccc",
           "gridwidth": 1,
           "linewidth": 1,
           "mirror": true,
           "showgrid": false,
           "showline": true,
           "ticklen": 5,
           "ticks": "outside",
           "ticksuffix": " ",
           "visible": true,
           "zeroline": false,
           "zerolinecolor": "#ccc",
           "zerolinewidth": 1
          }
         }
        },
        "xaxis": {
         "scaleanchor": "y",
         "scaleratio": 1,
         "title": {
          "text": "X axis [Ang]"
         }
        },
        "yaxis": {
         "title": {
          "text": "Y axis [Ang]"
         }
        }
       }
      }
     },
     "metadata": {},
     "output_type": "display_data"
    }
   ],
   "source": [
    "molec.plot(axes=\"xy\")"
   ]
  },
  {
   "cell_type": "markdown",
   "id": "00a764a5-46b2-4a56-a82c-8640c5da458f",
   "metadata": {},
   "source": [
    "## Eigenstates\n",
    "\n",
    "Once you have a hamiltonian, you can get all Eigenstates with `H.eigenstate()`. Then you can loop this object to get each individual eigenstate. \n",
    "- Each eigenstate has its energy stored under the `.eig` property.\n",
    "- We can find the HOMO and LUMO.\n",
    "- We can use the `.dos`  method to obtain the density of states DOS(E).\n",
    "- In sisl we can plot pdos directly in a given Energy range with something like `H.plot.pdos(data_Erange=[-10,10],nE=1200,Erange=[-10,10]) `"
   ]
  },
  {
   "cell_type": "code",
   "execution_count": 6,
   "id": "ea25b742-0173-4bd9-895c-e1759159f043",
   "metadata": {},
   "outputs": [],
   "source": [
    "es=H.eigenstate()"
   ]
  },
  {
   "cell_type": "code",
   "execution_count": 7,
   "id": "1ebdb4c0-8a43-4ffe-b660-b2e6d254d64d",
   "metadata": {},
   "outputs": [
    {
     "data": {
      "text/plain": [
       "array([-16.33995652, -13.69324101, -13.69252644, -10.1138892 ,\n",
       "       -10.11350652,  -8.01491573,  -6.56817621,  -6.1713395 ,\n",
       "        -5.50724443,  -5.50627282,  -4.22312382,  -3.64120263,\n",
       "        -3.64038941,  -1.64538185,  -1.64471071,   3.27233849,\n",
       "         3.27264538,   5.14290337,   6.15562798,   6.156023  ,\n",
       "         6.9103075 ,   6.91078352,   6.98696098,   7.70640457,\n",
       "         8.75989765,   9.73694772,   9.78243883,  10.14685502,\n",
       "        10.1478689 ,  10.58670856,  10.5888617 ,  10.94315755,\n",
       "        10.94320515,  12.47959413,  12.47985574,  12.50395164,\n",
       "        13.28113462,  13.28122621,  13.4603012 ,  13.55917322,\n",
       "        13.55970522,  14.66095655,  15.81792977,  16.81369127,\n",
       "        16.81514098,  17.62228868,  17.65590792,  17.65761405,\n",
       "        18.60302842,  18.9708367 ,  18.9711427 ,  20.69039612,\n",
       "        21.04852293,  22.4392446 ,  22.44082743,  23.05108247,\n",
       "        23.05291917,  23.31487739,  23.316348  ,  25.60008703,\n",
       "        25.60386505,  26.66795101,  27.16934893,  27.8074934 ,\n",
       "        29.15898502,  31.23611254,  35.12212237,  35.48359546,\n",
       "        35.48513512,  35.54593475,  35.54664931,  37.50045817,\n",
       "        37.50082811,  37.59925569,  37.60156504,  38.81460505,\n",
       "        38.99287097,  38.99592993,  40.58769535,  41.61137434,\n",
       "        43.92322548,  43.92346786,  44.71764156,  44.71826557,\n",
       "        46.74180091,  46.7425002 ,  47.35190781,  47.35882538,\n",
       "        48.46508653,  50.65710204,  50.66036915,  50.92768351,\n",
       "        50.93569115,  53.06180602,  54.77501093,  54.77643606,\n",
       "        58.30628178,  59.66515346,  63.08944293,  63.09629566,\n",
       "        67.13437247,  81.24817395,  81.2556515 ,  89.48584868,\n",
       "        93.31461187,  93.31716969,  94.96328661, 115.1950079 ])"
      ]
     },
     "execution_count": 7,
     "metadata": {},
     "output_type": "execute_result"
    }
   ],
   "source": [
    "es.eig"
   ]
  },
  {
   "cell_type": "code",
   "execution_count": 8,
   "id": "09ac0e20-6c52-4b18-b5c5-1c34e6e52ff0",
   "metadata": {},
   "outputs": [],
   "source": [
    "idx_lumo = (es.eig > 0).nonzero()[0][0] #trick to obtain the LUMO as first positive eigenvalue"
   ]
  },
  {
   "cell_type": "code",
   "execution_count": 9,
   "id": "755c795f-1760-4926-bf44-4300ac3b797e",
   "metadata": {},
   "outputs": [
    {
     "name": "stdout",
     "output_type": "stream",
     "text": [
      "15\n"
     ]
    }
   ],
   "source": [
    "print(idx_lumo)"
   ]
  },
  {
   "cell_type": "code",
   "execution_count": 10,
   "id": "94b8e306-5422-44e0-be9d-8824d36d3599",
   "metadata": {},
   "outputs": [
    {
     "name": "stdout",
     "output_type": "stream",
     "text": [
      "HOMO E= -1.644710708154887  eV\n",
      "LUMO E= 3.2723384944940688  eV\n"
     ]
    }
   ],
   "source": [
    "print(\"HOMO E=\",es.eig[idx_lumo-1],\" eV\")\n",
    "print(\"LUMO E=\",es.eig[idx_lumo],\" eV\")"
   ]
  },
  {
   "cell_type": "markdown",
   "id": "9d23e4a5-aff7-4c37-9cb9-62931fbbec40",
   "metadata": {},
   "source": [
    "-----------------------------------------------------------------------------------\n",
    "## Plotting Local Density of States\n",
    "\n",
    "Create a grid and fill the grid with LDOS"
   ]
  },
  {
   "cell_type": "markdown",
   "id": "48965f87-9cdf-4a93-99cb-413312e0915c",
   "metadata": {},
   "source": [
    "**To compute wavefunctions on the grid:**\n",
    "\n",
    "To compute $\\psi (\\vec{r})$ you need three things.\n",
    "\n",
    "1. **The eigenstate coefficients.** Once you have a hamiltonian, you can get all of them with `H.eigenstate()`. Then you can loop this object to get each individual eigenstate. Each eigenstate has its energy stored under the `.eig` property.\n",
    "2. **A grid of points in space.** You can create one with `sisl.Grid(geometry, shape=(100, 100, 100))`. This will create a grid of $100x100x100$ points within the cell of your geometry.\n",
    "3. **A function to project the wavefunction into the grid.** The eigenstate object has a `wavefunction` method ([docs](https://zerothi.github.io/sisl/api/generated/sisl.physics.electron.EigenstateElectron.html#sisl.physics.electron.EigenstateElectron.wavefunction)) that will project the wavefunction into an already initialized grid.\n",
    "4. Once you have the wavefunction, you can calculate the electron density $\\psi_i(\\vec{r}) \\psi_i^*(\\vec{r})$.\n",
    "5. The result can be saved in a '.cube' file and plotted with VMD \n",
    "\n",
    "Remember that we have done this already on the first SIESTA lab, with a water molecule and with $C_{60}$.\n"
   ]
  },
  {
   "cell_type": "code",
   "execution_count": 11,
   "id": "b1023aa0-d7cd-4ad1-92a6-09bed72db6d0",
   "metadata": {},
   "outputs": [],
   "source": [
    "g = Grid(0.2, lattice=molec.lattice)  #defines a grid matching with our system"
   ]
  },
  {
   "cell_type": "markdown",
   "id": "8137c66b-26be-448a-9e78-9ab8d17819f5",
   "metadata": {},
   "source": [
    "Save a state (for example, LUMO) in cube file"
   ]
  },
  {
   "cell_type": "code",
   "execution_count": 12,
   "id": "f781cd63-3813-4fef-8f34-45a12c35d425",
   "metadata": {},
   "outputs": [],
   "source": [
    "es[idx_lumo].wavefunction(g)\n",
    "g.write('LUMO.cube')\n",
    "\n",
    "g.fill(0) # reset the grid values to 0"
   ]
  },
  {
   "cell_type": "markdown",
   "id": "fd60c930-9edb-4b73-b494-28caa34c7406",
   "metadata": {},
   "source": [
    "Save Electron Density"
   ]
  },
  {
   "cell_type": "code",
   "execution_count": 13,
   "id": "523279fb-6b7d-4fc0-92be-1011b4a502be",
   "metadata": {},
   "outputs": [],
   "source": [
    "g2 = Grid(0.2, lattice=molec.lattice) "
   ]
  },
  {
   "cell_type": "code",
   "execution_count": 14,
   "id": "b7e449b3-b24a-4bc8-a1aa-812b56a7da4a",
   "metadata": {},
   "outputs": [],
   "source": [
    "es[idx_lumo].wavefunction(g)\n",
    "g2=g*g.grid.conj() \n",
    "g2.write('LUMOdens.cube')\n",
    "g2.fill(0) # reset the grid values to 0"
   ]
  },
  {
   "cell_type": "code",
   "execution_count": 15,
   "id": "9b286b66-5838-4168-8709-1d8928ac860e",
   "metadata": {},
   "outputs": [],
   "source": [
    "es[17].wavefunction(g)\n",
    "g2=g*g.grid.conj() \n",
    "g2.write('LUMOdens.cube')\n",
    "g2.fill(0) # reset the grid values to 0"
   ]
  },
  {
   "cell_type": "markdown",
   "id": "37540218-c321-4eb8-b5c0-60a568e66238",
   "metadata": {},
   "source": [
    "We can easily save the electron density including a range of states"
   ]
  },
  {
   "cell_type": "code",
   "execution_count": 16,
   "id": "32d422a2-2688-4c8c-b295-a261c6bd0652",
   "metadata": {},
   "outputs": [
    {
     "name": "stdout",
     "output_type": "stream",
     "text": [
      "adding state 11\n",
      "adding state 12\n",
      "adding state 13\n",
      "adding state 14\n"
     ]
    }
   ],
   "source": [
    "Gt = Grid(0.2, lattice=molec.lattice) \n",
    "for n in range(idx_lumo-4,idx_lumo):\n",
    "    print(\"adding state\",n)\n",
    "    g.fill(0)\n",
    "    es[n].wavefunction(g)\n",
    "    Gt = Gt + g*g.grid.conj()\n",
    "Gt.write('several_states.cube')\n",
    "Gt.fill(0)\n",
    "\n",
    "    "
   ]
  },
  {
   "cell_type": "markdown",
   "id": "92915e26-b24f-4675-9378-65f8a94c9c87",
   "metadata": {},
   "source": [
    "# STM images #\n",
    "\n",
    "**Remember**: The value of the tip bias V determines **which states are explored**:  \n",
    "\n",
    "$V = V_{tip} - V_{sample} > 0$ : sample electrons go to the tip, so the images **show occupied states**.\n",
    "\n",
    "$V = V_{tip} - V_{sample} < 0$ : tip electrons go to the sample, so the images **show unoccupied states**.\n",
    "\n",
    "Now we can create a function `STM_grid(H, V)` that creates a grid adding all the states that contribute to the electron density $\\psi_i(\\vec{r}) \\psi_i^*(\\vec{r})$ relevant to the STM image.\n",
    "\n",
    "The `STM_grid(H, V)` function need the Hamitonian (the object `H`) and the value of the voltage `V`."
   ]
  },
  {
   "cell_type": "code",
   "execution_count": 17,
   "id": "9907a489-0d07-4c49-9690-bc2153ddea22",
   "metadata": {},
   "outputs": [],
   "source": [
    "def STM_grid(H, V):\n",
    "    gridT = sisl.Grid((300, 300, 300), geometry=molec)\n",
    "    grid = sisl.Grid((300, 300, 300), geometry=molec)\n",
    "    gridT.fill(0)\n",
    "    E=-V\n",
    "    for i in range(0,len(es)):\n",
    "        #Negative V: electrons go from tip to sample filling unoccupied states from 0 to E\n",
    "        if 0<es[i].eig<E:    \n",
    "            grid.fill(0)\n",
    "            print(\"adding state\",i)\n",
    "            es[i].wavefunction(grid)\n",
    "            GT=grid*grid.grid.conj()\n",
    "            gridT=gridT+GT\n",
    "        #Positive V: electrons with energies between E and 0 leave the sample and go to the tip\n",
    "        if E<es[i].eig<0:    \n",
    "            grid.fill(0)\n",
    "            print(\"adding state\",i)\n",
    "            es[i].wavefunction(grid)\n",
    "            GT=grid*grid.grid.conj()\n",
    "            gridT=gridT+GT \n",
    "    result=gridT\n",
    "    return result"
   ]
  },
  {
   "cell_type": "markdown",
   "id": "560d146f-dd4f-4ebb-8588-55f03233b521",
   "metadata": {},
   "source": [
    "Calculate and save data. IN VMD you can use isosurface or Volume slice representations"
   ]
  },
  {
   "cell_type": "code",
   "execution_count": 18,
   "id": "ab8db9a3-93fb-4da9-80e3-df50629d5582",
   "metadata": {},
   "outputs": [
    {
     "name": "stdout",
     "output_type": "stream",
     "text": [
      "adding state 10\n",
      "adding state 11\n",
      "adding state 12\n",
      "adding state 13\n",
      "adding state 14\n"
     ]
    }
   ],
   "source": [
    "V=STM_grid(H, 5)"
   ]
  },
  {
   "cell_type": "code",
   "execution_count": 19,
   "id": "3d44c1af-3ece-405f-83c6-dc2db0c9b5c5",
   "metadata": {},
   "outputs": [],
   "source": [
    "V.write('STM_5Volt.cube')"
   ]
  },
  {
   "cell_type": "code",
   "execution_count": 20,
   "id": "2d2fb9d9-f63c-4c54-97aa-6b30b69d2c89",
   "metadata": {},
   "outputs": [
    {
     "name": "stdout",
     "output_type": "stream",
     "text": [
      "adding state 15\n",
      "adding state 16\n",
      "adding state 17\n"
     ]
    }
   ],
   "source": [
    "V=STM_grid(H, -6)\n",
    "V.write('STM_m5Volt.cube')"
   ]
  }
 ],
 "metadata": {
  "kernelspec": {
   "display_name": "Python 3 (ipykernel)",
   "language": "python",
   "name": "python3"
  },
  "language_info": {
   "codemirror_mode": {
    "name": "ipython",
    "version": 3
   },
   "file_extension": ".py",
   "mimetype": "text/x-python",
   "name": "python",
   "nbconvert_exporter": "python",
   "pygments_lexer": "ipython3",
   "version": "3.12.8"
  }
 },
 "nbformat": 4,
 "nbformat_minor": 5
}
